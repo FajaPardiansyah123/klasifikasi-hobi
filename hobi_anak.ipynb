{
 "cells": [
  {
   "attachments": {},
   "cell_type": "markdown",
   "metadata": {},
   "source": [
    "# CRISP DM"
   ]
  },
  {
   "cell_type": "code",
   "execution_count": null,
   "metadata": {},
   "outputs": [],
   "source": [
    "Bussines Understanding\n",
    "\n",
    "- Problem\n",
    "Manusia tidak terlepas dengan hobi. Hobi adalah kegiatan yang dilakukan secara teratur, dan dikerjakan\n",
    "kesenangan diri. Biasanya, hobi dilakukan selama waktu luang. Ketika remaja cenderung memiliki kebingungan\n",
    "dalam memutuskan hobi mana yang cocok atau mereka sukai. Dataset ini berisi kumpulan data survei dari\n",
    "para orang tua.\n",
    "\n",
    "- Tujuan\n",
    "Dataset ini diambil dari Kaggle (https://www.kaggle.com/datasets/abtabm/hobby-prediction-basic)\n",
    "bertujuan untuk menganalisis dan mengklasifikasi hobi yang cocok untuk anak remaja dan diharapkan\n",
    "bisa membantu orangtua dalam memilih hobi yang cocok dengan anak mereka."
   ]
  },
  {
   "cell_type": "code",
   "execution_count": null,
   "metadata": {},
   "outputs": [],
   "source": [
    "Data Understanding\n",
    "\n",
    "Berikut atribut-atribut dari dataset ini :\n",
    "\n",
    "0. Olympiad_Participation = Apakah anak Anda berpartisipasi dalam Olimpiade Sains/Matematika\n",
    "1. Scholarship = Apakah anak anda telah menerima beasiswa\n",
    "2. School = Apakah anak anda senang pergi ke sekolah\n",
    "3. Fav_sub = Mata pelajaran apa yang dia sukai\n",
    "4. Projects = Apakah dia telah melakukan proyek apa pun sebelumnya selama sekolah\n",
    "5. Grasp_pow = Daya tangkap dia dalam pembelajaran\n",
    "6. Time_sprt = Berapa jam yang dihabiskan dia untuk bermain di dalam atau di luar ruangan\n",
    "7. Medals = Apakah dia pernah memenagkan medali di bidang olahraga\n",
    "8. Career_sprt = Apakah dia ingin melanjutkan karirnya di bidang olahraga\n",
    "9. Act_sprt = Apakah dia rajin mengikuti kegiatan olahraga\n",
    "10. Fant_arts = Apakah dia suka membuat lukisan fantasi\n",
    "11. Won_arts = Apakah dia pernah memenangkan perlombaan seni\n",
    "12. Time_art = Berapa jam yang dihabiskan dalam seni\n",
    "13. Predicted_Hobby = prediksi hobi yang disarankan"
   ]
  },
  {
   "cell_type": "code",
   "execution_count": null,
   "metadata": {},
   "outputs": [],
   "source": [
    "Data Preparation\n",
    "\n",
    "Yang digunakan sebagai fitur dalam dataset ini adalah:\n",
    "\n",
    "0. Olympiad_Participation\n",
    "1. Scholarship\n",
    "2. School\n",
    "3. Fav_sub\n",
    "4. Projects\n",
    "5. Grasp_pow\n",
    "6. Time_sprt\n",
    "7. Medals\n",
    "8. Career_sprt\n",
    "9. Act_sprt\n",
    "10. Fant_arts\n",
    "11. Won_arts\n",
    "12. Time_art\n",
    "\n",
    "Sedangkan, yang menjadi target yaitu Predicted_Hobby"
   ]
  },
  {
   "attachments": {},
   "cell_type": "markdown",
   "metadata": {},
   "source": [
    "# Import library"
   ]
  },
  {
   "cell_type": "code",
   "execution_count": 1,
   "metadata": {},
   "outputs": [],
   "source": [
    "import numpy as np\n",
    "import pandas as pd\n",
    "from sklearn.model_selection import  train_test_split\n",
    "from sklearn.metrics import accuracy_score\n",
    "import matplotlib.pyplot as plt"
   ]
  },
  {
   "cell_type": "code",
   "execution_count": 2,
   "metadata": {},
   "outputs": [],
   "source": [
    "df = pd.read_csv(\"Hobby_Data.csv\")"
   ]
  },
  {
   "cell_type": "code",
   "execution_count": 3,
   "metadata": {},
   "outputs": [
    {
     "data": {
      "text/html": [
       "<div>\n",
       "<style scoped>\n",
       "    .dataframe tbody tr th:only-of-type {\n",
       "        vertical-align: middle;\n",
       "    }\n",
       "\n",
       "    .dataframe tbody tr th {\n",
       "        vertical-align: top;\n",
       "    }\n",
       "\n",
       "    .dataframe thead th {\n",
       "        text-align: right;\n",
       "    }\n",
       "</style>\n",
       "<table border=\"1\" class=\"dataframe\">\n",
       "  <thead>\n",
       "    <tr style=\"text-align: right;\">\n",
       "      <th></th>\n",
       "      <th>Olympiad_Participation</th>\n",
       "      <th>Scholarship</th>\n",
       "      <th>School</th>\n",
       "      <th>Fav_sub</th>\n",
       "      <th>Projects</th>\n",
       "      <th>Grasp_pow</th>\n",
       "      <th>Time_sprt</th>\n",
       "      <th>Medals</th>\n",
       "      <th>Career_sprt</th>\n",
       "      <th>Act_sprt</th>\n",
       "      <th>Fant_arts</th>\n",
       "      <th>Won_arts</th>\n",
       "      <th>Time_art</th>\n",
       "      <th>Predicted_Hobby</th>\n",
       "    </tr>\n",
       "  </thead>\n",
       "  <tbody>\n",
       "    <tr>\n",
       "      <th>0</th>\n",
       "      <td>Yes</td>\n",
       "      <td>Yes</td>\n",
       "      <td>Yes</td>\n",
       "      <td>Mathematics</td>\n",
       "      <td>Yes</td>\n",
       "      <td>5</td>\n",
       "      <td>1</td>\n",
       "      <td>Yes</td>\n",
       "      <td>No</td>\n",
       "      <td>No</td>\n",
       "      <td>No</td>\n",
       "      <td>Maybe</td>\n",
       "      <td>3</td>\n",
       "      <td>Academics</td>\n",
       "    </tr>\n",
       "    <tr>\n",
       "      <th>1</th>\n",
       "      <td>Yes</td>\n",
       "      <td>Yes</td>\n",
       "      <td>Yes</td>\n",
       "      <td>Mathematics</td>\n",
       "      <td>Yes</td>\n",
       "      <td>3</td>\n",
       "      <td>2</td>\n",
       "      <td>No</td>\n",
       "      <td>No</td>\n",
       "      <td>No</td>\n",
       "      <td>No</td>\n",
       "      <td>No</td>\n",
       "      <td>1</td>\n",
       "      <td>Academics</td>\n",
       "    </tr>\n",
       "    <tr>\n",
       "      <th>2</th>\n",
       "      <td>Yes</td>\n",
       "      <td>Yes</td>\n",
       "      <td>Yes</td>\n",
       "      <td>Science</td>\n",
       "      <td>Yes</td>\n",
       "      <td>5</td>\n",
       "      <td>1</td>\n",
       "      <td>Yes</td>\n",
       "      <td>No</td>\n",
       "      <td>No</td>\n",
       "      <td>No</td>\n",
       "      <td>No</td>\n",
       "      <td>1</td>\n",
       "      <td>Academics</td>\n",
       "    </tr>\n",
       "    <tr>\n",
       "      <th>3</th>\n",
       "      <td>Yes</td>\n",
       "      <td>Yes</td>\n",
       "      <td>Yes</td>\n",
       "      <td>Mathematics</td>\n",
       "      <td>Yes</td>\n",
       "      <td>5</td>\n",
       "      <td>1</td>\n",
       "      <td>Yes</td>\n",
       "      <td>No</td>\n",
       "      <td>No</td>\n",
       "      <td>No</td>\n",
       "      <td>Maybe</td>\n",
       "      <td>3</td>\n",
       "      <td>Academics</td>\n",
       "    </tr>\n",
       "    <tr>\n",
       "      <th>4</th>\n",
       "      <td>Yes</td>\n",
       "      <td>Yes</td>\n",
       "      <td>Yes</td>\n",
       "      <td>Science</td>\n",
       "      <td>Yes</td>\n",
       "      <td>5</td>\n",
       "      <td>3</td>\n",
       "      <td>No</td>\n",
       "      <td>No</td>\n",
       "      <td>No</td>\n",
       "      <td>No</td>\n",
       "      <td>No</td>\n",
       "      <td>2</td>\n",
       "      <td>Academics</td>\n",
       "    </tr>\n",
       "  </tbody>\n",
       "</table>\n",
       "</div>"
      ],
      "text/plain": [
       "  Olympiad_Participation Scholarship School      Fav_sub Projects  Grasp_pow   \n",
       "0                    Yes         Yes    Yes  Mathematics      Yes          5  \\\n",
       "1                    Yes         Yes    Yes  Mathematics      Yes          3   \n",
       "2                    Yes         Yes    Yes      Science      Yes          5   \n",
       "3                    Yes         Yes    Yes  Mathematics      Yes          5   \n",
       "4                    Yes         Yes    Yes      Science      Yes          5   \n",
       "\n",
       "   Time_sprt Medals Career_sprt Act_sprt Fant_arts Won_arts  Time_art   \n",
       "0          1    Yes          No       No        No    Maybe         3  \\\n",
       "1          2     No          No       No        No       No         1   \n",
       "2          1    Yes          No       No        No       No         1   \n",
       "3          1    Yes          No       No        No    Maybe         3   \n",
       "4          3     No          No       No        No       No         2   \n",
       "\n",
       "  Predicted_Hobby  \n",
       "0       Academics  \n",
       "1       Academics  \n",
       "2       Academics  \n",
       "3       Academics  \n",
       "4       Academics  "
      ]
     },
     "execution_count": 3,
     "metadata": {},
     "output_type": "execute_result"
    }
   ],
   "source": [
    "df.head()"
   ]
  },
  {
   "cell_type": "code",
   "execution_count": 4,
   "metadata": {},
   "outputs": [
    {
     "name": "stdout",
     "output_type": "stream",
     "text": [
      "<class 'pandas.core.frame.DataFrame'>\n",
      "RangeIndex: 1601 entries, 0 to 1600\n",
      "Data columns (total 14 columns):\n",
      " #   Column                  Non-Null Count  Dtype \n",
      "---  ------                  --------------  ----- \n",
      " 0   Olympiad_Participation  1601 non-null   object\n",
      " 1   Scholarship             1601 non-null   object\n",
      " 2   School                  1601 non-null   object\n",
      " 3   Fav_sub                 1601 non-null   object\n",
      " 4   Projects                1601 non-null   object\n",
      " 5   Grasp_pow               1601 non-null   int64 \n",
      " 6   Time_sprt               1601 non-null   int64 \n",
      " 7   Medals                  1601 non-null   object\n",
      " 8   Career_sprt             1601 non-null   object\n",
      " 9   Act_sprt                1601 non-null   object\n",
      " 10  Fant_arts               1601 non-null   object\n",
      " 11  Won_arts                1601 non-null   object\n",
      " 12  Time_art                1601 non-null   int64 \n",
      " 13  Predicted_Hobby         1601 non-null   object\n",
      "dtypes: int64(3), object(11)\n",
      "memory usage: 175.2+ KB\n"
     ]
    }
   ],
   "source": [
    "df.info()"
   ]
  },
  {
   "attachments": {},
   "cell_type": "markdown",
   "metadata": {},
   "source": [
    "# Transformasi Data"
   ]
  },
  {
   "cell_type": "code",
   "execution_count": 5,
   "metadata": {},
   "outputs": [],
   "source": [
    "# memisahkan numerik dan kategori\n",
    "nomor = []\n",
    "huruf = []\n",
    "\n",
    "for col in df.columns:\n",
    "    if df[col].dtype == 'int64':\n",
    "        nomor.append(col)\n",
    "    else:\n",
    "        huruf.append(col)\n",
    "\n",
    "for col in df.columns:\n",
    "    if col in nomor:\n",
    "        df[col].fillna(df[col].median(), inplace=True)\n",
    "    else:\n",
    "        df[col].fillna(df[col].mode()[0], inplace=True)"
   ]
  },
  {
   "cell_type": "code",
   "execution_count": 6,
   "metadata": {},
   "outputs": [
    {
     "data": {
      "text/plain": [
       "['Grasp_pow', 'Time_sprt', 'Time_art']"
      ]
     },
     "execution_count": 6,
     "metadata": {},
     "output_type": "execute_result"
    }
   ],
   "source": [
    "nomor"
   ]
  },
  {
   "cell_type": "code",
   "execution_count": 7,
   "metadata": {},
   "outputs": [
    {
     "data": {
      "text/plain": [
       "['Olympiad_Participation',\n",
       " 'Scholarship',\n",
       " 'School',\n",
       " 'Fav_sub',\n",
       " 'Projects',\n",
       " 'Medals',\n",
       " 'Career_sprt',\n",
       " 'Act_sprt',\n",
       " 'Fant_arts',\n",
       " 'Won_arts',\n",
       " 'Predicted_Hobby']"
      ]
     },
     "execution_count": 7,
     "metadata": {},
     "output_type": "execute_result"
    }
   ],
   "source": [
    "huruf"
   ]
  },
  {
   "cell_type": "code",
   "execution_count": 8,
   "metadata": {},
   "outputs": [
    {
     "data": {
      "text/plain": [
       "Predicted_Hobby\n",
       "Academics    699\n",
       "Sports       492\n",
       "Arts         410\n",
       "Name: count, dtype: int64"
      ]
     },
     "execution_count": 8,
     "metadata": {},
     "output_type": "execute_result"
    }
   ],
   "source": [
    "df['Predicted_Hobby'].value_counts()"
   ]
  },
  {
   "cell_type": "code",
   "execution_count": 9,
   "metadata": {},
   "outputs": [],
   "source": [
    "from sklearn.preprocessing import LabelEncoder\n",
    "\n",
    "le = LabelEncoder()\n",
    "for col in huruf:\n",
    "    df[col] = le.fit_transform(df[col])"
   ]
  },
  {
   "cell_type": "code",
   "execution_count": 10,
   "metadata": {},
   "outputs": [],
   "source": [
    "df['Predicted_Hobby'] = le.fit_transform(df['Predicted_Hobby'])"
   ]
  },
  {
   "cell_type": "code",
   "execution_count": 11,
   "metadata": {},
   "outputs": [
    {
     "data": {
      "text/html": [
       "<div>\n",
       "<style scoped>\n",
       "    .dataframe tbody tr th:only-of-type {\n",
       "        vertical-align: middle;\n",
       "    }\n",
       "\n",
       "    .dataframe tbody tr th {\n",
       "        vertical-align: top;\n",
       "    }\n",
       "\n",
       "    .dataframe thead th {\n",
       "        text-align: right;\n",
       "    }\n",
       "</style>\n",
       "<table border=\"1\" class=\"dataframe\">\n",
       "  <thead>\n",
       "    <tr style=\"text-align: right;\">\n",
       "      <th></th>\n",
       "      <th>Olympiad_Participation</th>\n",
       "      <th>Scholarship</th>\n",
       "      <th>School</th>\n",
       "      <th>Fav_sub</th>\n",
       "      <th>Projects</th>\n",
       "      <th>Grasp_pow</th>\n",
       "      <th>Time_sprt</th>\n",
       "      <th>Medals</th>\n",
       "      <th>Career_sprt</th>\n",
       "      <th>Act_sprt</th>\n",
       "      <th>Fant_arts</th>\n",
       "      <th>Won_arts</th>\n",
       "      <th>Time_art</th>\n",
       "      <th>Predicted_Hobby</th>\n",
       "    </tr>\n",
       "  </thead>\n",
       "  <tbody>\n",
       "    <tr>\n",
       "      <th>0</th>\n",
       "      <td>1</td>\n",
       "      <td>1</td>\n",
       "      <td>1</td>\n",
       "      <td>2</td>\n",
       "      <td>1</td>\n",
       "      <td>5</td>\n",
       "      <td>1</td>\n",
       "      <td>1</td>\n",
       "      <td>0</td>\n",
       "      <td>0</td>\n",
       "      <td>0</td>\n",
       "      <td>0</td>\n",
       "      <td>3</td>\n",
       "      <td>0</td>\n",
       "    </tr>\n",
       "    <tr>\n",
       "      <th>1</th>\n",
       "      <td>1</td>\n",
       "      <td>1</td>\n",
       "      <td>1</td>\n",
       "      <td>2</td>\n",
       "      <td>1</td>\n",
       "      <td>3</td>\n",
       "      <td>2</td>\n",
       "      <td>0</td>\n",
       "      <td>0</td>\n",
       "      <td>0</td>\n",
       "      <td>0</td>\n",
       "      <td>1</td>\n",
       "      <td>1</td>\n",
       "      <td>0</td>\n",
       "    </tr>\n",
       "    <tr>\n",
       "      <th>2</th>\n",
       "      <td>1</td>\n",
       "      <td>1</td>\n",
       "      <td>1</td>\n",
       "      <td>3</td>\n",
       "      <td>1</td>\n",
       "      <td>5</td>\n",
       "      <td>1</td>\n",
       "      <td>1</td>\n",
       "      <td>0</td>\n",
       "      <td>0</td>\n",
       "      <td>0</td>\n",
       "      <td>1</td>\n",
       "      <td>1</td>\n",
       "      <td>0</td>\n",
       "    </tr>\n",
       "    <tr>\n",
       "      <th>3</th>\n",
       "      <td>1</td>\n",
       "      <td>1</td>\n",
       "      <td>1</td>\n",
       "      <td>2</td>\n",
       "      <td>1</td>\n",
       "      <td>5</td>\n",
       "      <td>1</td>\n",
       "      <td>1</td>\n",
       "      <td>0</td>\n",
       "      <td>0</td>\n",
       "      <td>0</td>\n",
       "      <td>0</td>\n",
       "      <td>3</td>\n",
       "      <td>0</td>\n",
       "    </tr>\n",
       "    <tr>\n",
       "      <th>4</th>\n",
       "      <td>1</td>\n",
       "      <td>1</td>\n",
       "      <td>1</td>\n",
       "      <td>3</td>\n",
       "      <td>1</td>\n",
       "      <td>5</td>\n",
       "      <td>3</td>\n",
       "      <td>0</td>\n",
       "      <td>0</td>\n",
       "      <td>0</td>\n",
       "      <td>0</td>\n",
       "      <td>1</td>\n",
       "      <td>2</td>\n",
       "      <td>0</td>\n",
       "    </tr>\n",
       "  </tbody>\n",
       "</table>\n",
       "</div>"
      ],
      "text/plain": [
       "   Olympiad_Participation  Scholarship  School  Fav_sub  Projects  Grasp_pow   \n",
       "0                       1            1       1        2         1          5  \\\n",
       "1                       1            1       1        2         1          3   \n",
       "2                       1            1       1        3         1          5   \n",
       "3                       1            1       1        2         1          5   \n",
       "4                       1            1       1        3         1          5   \n",
       "\n",
       "   Time_sprt  Medals  Career_sprt  Act_sprt  Fant_arts  Won_arts  Time_art   \n",
       "0          1       1            0         0          0         0         3  \\\n",
       "1          2       0            0         0          0         1         1   \n",
       "2          1       1            0         0          0         1         1   \n",
       "3          1       1            0         0          0         0         3   \n",
       "4          3       0            0         0          0         1         2   \n",
       "\n",
       "   Predicted_Hobby  \n",
       "0                0  \n",
       "1                0  \n",
       "2                0  \n",
       "3                0  \n",
       "4                0  "
      ]
     },
     "execution_count": 11,
     "metadata": {},
     "output_type": "execute_result"
    }
   ],
   "source": [
    "df.head()"
   ]
  },
  {
   "cell_type": "code",
   "execution_count": 12,
   "metadata": {},
   "outputs": [],
   "source": [
    "df.to_csv('hobi.csv')"
   ]
  },
  {
   "cell_type": "code",
   "execution_count": 13,
   "metadata": {},
   "outputs": [
    {
     "data": {
      "text/plain": [
       "Predicted_Hobby\n",
       "0    699\n",
       "2    492\n",
       "1    410\n",
       "Name: count, dtype: int64"
      ]
     },
     "execution_count": 13,
     "metadata": {},
     "output_type": "execute_result"
    }
   ],
   "source": [
    "df['Predicted_Hobby'].value_counts()"
   ]
  },
  {
   "attachments": {},
   "cell_type": "markdown",
   "metadata": {},
   "source": [
    "# Visualisasi Data"
   ]
  },
  {
   "cell_type": "code",
   "execution_count": 14,
   "metadata": {},
   "outputs": [
    {
     "data": {
      "text/plain": [
       "Predicted_Hobby\n",
       "0    699\n",
       "2    492\n",
       "1    410\n",
       "Name: count, dtype: int64"
      ]
     },
     "execution_count": 14,
     "metadata": {},
     "output_type": "execute_result"
    },
    {
     "data": {
      "image/png": "[encoded data removed]",
      "text/plain": [
       "<Figure size 640x480 with 1 Axes>"
      ]
     },
     "metadata": {},
     "output_type": "display_data"
    }
   ],
   "source": [
    "import seaborn as sns\n",
    "\n",
    "sns.countplot(x = \"Predicted_Hobby\", data = df)\n",
    "df.loc[:,\"Predicted_Hobby\"].value_counts()"
   ]
  },
  {
   "cell_type": "code",
   "execution_count": 15,
   "metadata": {},
   "outputs": [
    {
     "data": {
      "text/plain": [
       "Fav_sub\n",
       "2    680\n",
       "3    515\n",
       "0    288\n",
       "1    118\n",
       "Name: count, dtype: int64"
      ]
     },
     "execution_count": 15,
     "metadata": {},
     "output_type": "execute_result"
    },
    {
     "data": {
      "image/png": "[encoded data removed]",
      "text/plain": [
       "<Figure size 640x480 with 1 Axes>"
      ]
     },
     "metadata": {},
     "output_type": "display_data"
    }
   ],
   "source": [
    "sns.countplot(x = \"Fav_sub\", data = df)\n",
    "df.loc[:,\"Fav_sub\"].value_counts()"
   ]
  },
  {
   "attachments": {},
   "cell_type": "markdown",
   "metadata": {},
   "source": [
    "# Split data"
   ]
  },
  {
   "cell_type": "code",
   "execution_count": 16,
   "metadata": {},
   "outputs": [],
   "source": [
    "X = df.drop(columns=['Predicted_Hobby'], axis=1)\n",
    "Y = df['Predicted_Hobby']"
   ]
  },
  {
   "cell_type": "code",
   "execution_count": 17,
   "metadata": {},
   "outputs": [],
   "source": [
    "x_train, x_test, y_train, y_test = train_test_split(X, Y, test_size=0.2, stratify=Y, random_state=2)"
   ]
  },
  {
   "cell_type": "code",
   "execution_count": 18,
   "metadata": {},
   "outputs": [
    {
     "name": "stdout",
     "output_type": "stream",
     "text": [
      "(1601, 13) (1280, 13) (321, 13)\n"
     ]
    }
   ],
   "source": [
    "print(X.shape, x_train.shape, x_test.shape)"
   ]
  },
  {
   "attachments": {},
   "cell_type": "markdown",
   "metadata": {},
   "source": [
    "# Modeling"
   ]
  },
  {
   "attachments": {},
   "cell_type": "markdown",
   "metadata": {},
   "source": [
    "### Membuat model training"
   ]
  },
  {
   "cell_type": "code",
   "execution_count": 19,
   "metadata": {},
   "outputs": [],
   "source": [
    "from sklearn.neighbors import KNeighborsClassifier\n",
    "\n",
    "knn = KNeighborsClassifier(n_neighbors=5)"
   ]
  },
  {
   "cell_type": "code",
   "execution_count": 20,
   "metadata": {},
   "outputs": [],
   "source": [
    "model = knn.fit(x_train, y_train)"
   ]
  },
  {
   "attachments": {},
   "cell_type": "markdown",
   "metadata": {},
   "source": [
    "# Evaluation"
   ]
  },
  {
   "attachments": {},
   "cell_type": "markdown",
   "metadata": {},
   "source": [
    "### Evaluasi model"
   ]
  },
  {
   "cell_type": "code",
   "execution_count": 21,
   "metadata": {},
   "outputs": [],
   "source": [
    "x_train_predict = model.predict(x_train)\n",
    "training_data_accuracy = accuracy_score(x_train_predict, y_train)"
   ]
  },
  {
   "cell_type": "code",
   "execution_count": 22,
   "metadata": {},
   "outputs": [
    {
     "name": "stdout",
     "output_type": "stream",
     "text": [
      "Akurasi data training :  0.92421875\n"
     ]
    }
   ],
   "source": [
    "print('Akurasi data training : ', training_data_accuracy)"
   ]
  },
  {
   "cell_type": "code",
   "execution_count": 23,
   "metadata": {},
   "outputs": [],
   "source": [
    "x_test_predict = model.predict(x_test)\n",
    "test_data_accuracy = accuracy_score(x_test_predict, y_test)"
   ]
  },
  {
   "cell_type": "code",
   "execution_count": 24,
   "metadata": {},
   "outputs": [
    {
     "name": "stdout",
     "output_type": "stream",
     "text": [
      "Akurasi data testing :  0.881619937694704\n"
     ]
    }
   ],
   "source": [
    "print('Akurasi data testing : ', test_data_accuracy)"
   ]
  },
  {
   "attachments": {},
   "cell_type": "markdown",
   "metadata": {},
   "source": [
    "# Model Prediksi"
   ]
  },
  {
   "cell_type": "code",
   "execution_count": 29,
   "metadata": {},
   "outputs": [
    {
     "name": "stdout",
     "output_type": "stream",
     "text": [
      "[0]\n",
      "Hobi Yang Disarankan Adalah Di Bidang Akademik\n"
     ]
    },
    {
     "name": "stderr",
     "output_type": "stream",
     "text": [
      "c:\\Python\\Python311\\Lib\\site-packages\\sklearn\\base.py:439: UserWarning: X does not have valid feature names, but KNeighborsClassifier was fitted with feature names\n",
      "  warnings.warn(\n"
     ]
    }
   ],
   "source": [
    "input_data = (1,1,1,2,1,6,4,1,0,0,0,1,2)\n",
    "input_data_numpy = np.asarray(input_data)\n",
    "data_reshaped = input_data_numpy.reshape(1, -1)\n",
    "prediksi = model.predict(data_reshaped)\n",
    "print(prediksi)\n",
    "\n",
    "if (prediksi[0] == 0):\n",
    "    print('Hobi Yang Disarankan Adalah Di Bidang Akademik')\n",
    "elif (prediksi == 1):\n",
    "    print('Hobi Yang Disarankan Adalah Di Bidang Seni')\n",
    "else:\n",
    "    print('Hobi Yang Disarankan Adalah Di Bidang Olahraga')"
   ]
  },
  {
   "attachments": {},
   "cell_type": "markdown",
   "metadata": {},
   "source": [
    "# Deployment"
   ]
  },
  {
   "attachments": {},
   "cell_type": "markdown",
   "metadata": {},
   "source": [
    "### Save Model"
   ]
  },
  {
   "cell_type": "code",
   "execution_count": 26,
   "metadata": {},
   "outputs": [],
   "source": [
    "import pickle\n",
    "\n",
    "filename = 'hobi_anak.sav'\n",
    "pickle.dump(model, open(filename, 'wb'))"
   ]
  }
 ],
 "metadata": {
  "kernelspec": {
   "display_name": "Python 3",
   "language": "python",
   "name": "python3"
  },
  "language_info": {
   "codemirror_mode": {
    "name": "ipython",
    "version": 3
   },
   "file_extension": ".py",
   "mimetype": "text/x-python",
   "name": "python",
   "nbconvert_exporter": "python",
   "pygments_lexer": "ipython3",
   "version": "3.11.3"
  },
  "orig_nbformat": 4
 },
 "nbformat": 4,
 "nbformat_minor": 2
}
